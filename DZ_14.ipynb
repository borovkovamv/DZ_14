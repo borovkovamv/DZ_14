{
 "cells": [
  {
   "cell_type": "markdown",
   "metadata": {},
   "source": [
    "# Домашнее задание к лекции \"Основы веб-скрапинга и работы с API\""
   ]
  },
  {
   "cell_type": "markdown",
   "metadata": {},
   "source": [
    "## Задание 1. \n",
    "\n",
    "### Обязательная часть"
   ]
  },
  {
   "cell_type": "markdown",
   "metadata": {},
   "source": [
    "Будем парсить страницу со свежеми новостям на [habr.com/ru/all/](https://habr.com/ru/all/).\n",
    "\n",
    "Вам необходимо собирать только те статьи, в которых встречается хотя бы одно требуемое ключевое слово. Эти слова определяем в начале кода в переменной, например:\n",
    "\n",
    "`KEYWORDS = ['python', 'парсинг']`\n",
    "\n",
    " Поиск вести по всей доступной preview-информации (это информация, доступная непосредственно с текущей страницы). \n",
    " \n",
    "В итоге должен формироваться датафрейм со столбцами: <дата> - <заголовок> - <ссылка>."
   ]
  },
  {
   "cell_type": "code",
   "execution_count": 1,
   "metadata": {},
   "outputs": [],
   "source": [
    "import pandas as pd\n",
    "import requests\n",
    "from bs4 import BeautifulSoup"
   ]
  },
  {
   "cell_type": "code",
   "execution_count": 30,
   "metadata": {},
   "outputs": [],
   "source": [
    "KEYWORDS = ['python', 'парсинг', 'java', 'россии']\n",
    "req = requests.get('https://habr.com/ru/all/')\n",
    "soup = BeautifulSoup(req.text, 'html.parser')"
   ]
  },
  {
   "cell_type": "code",
   "execution_count": 3,
   "metadata": {},
   "outputs": [],
   "source": [
    "posts = soup.find_all('article', class_='post')"
   ]
  },
  {
   "cell_type": "code",
   "execution_count": 31,
   "metadata": {},
   "outputs": [
    {
     "data": {
      "text/html": [
       "<div>\n",
       "<style scoped>\n",
       "    .dataframe tbody tr th:only-of-type {\n",
       "        vertical-align: middle;\n",
       "    }\n",
       "\n",
       "    .dataframe tbody tr th {\n",
       "        vertical-align: top;\n",
       "    }\n",
       "\n",
       "    .dataframe thead th {\n",
       "        text-align: right;\n",
       "    }\n",
       "</style>\n",
       "<table border=\"1\" class=\"dataframe\">\n",
       "  <thead>\n",
       "    <tr style=\"text-align: right;\">\n",
       "      <th></th>\n",
       "      <th>date</th>\n",
       "      <th>title</th>\n",
       "      <th>link</th>\n",
       "    </tr>\n",
       "  </thead>\n",
       "  <tbody>\n",
       "    <tr>\n",
       "      <th>0</th>\n",
       "      <td>сегодня в 12:21</td>\n",
       "      <td>Как начать писать микросервис на Spring Boot, ...</td>\n",
       "      <td>https://habr.com/ru/post/517988/</td>\n",
       "    </tr>\n",
       "    <tr>\n",
       "      <th>0</th>\n",
       "      <td>сегодня в 12:20</td>\n",
       "      <td>Картирование цифровых прав, часть IV. Право на...</td>\n",
       "      <td>https://habr.com/ru/post/517986/</td>\n",
       "    </tr>\n",
       "    <tr>\n",
       "      <th>0</th>\n",
       "      <td>вчера в 16:16</td>\n",
       "      <td>Сравнение Blazor и JavaScript-инструментов</td>\n",
       "      <td>https://habr.com/ru/company/ruvds/blog/517314/</td>\n",
       "    </tr>\n",
       "  </tbody>\n",
       "</table>\n",
       "</div>"
      ],
      "text/plain": [
       "              date                                              title  \\\n",
       "0  сегодня в 12:21  Как начать писать микросервис на Spring Boot, ...   \n",
       "0  сегодня в 12:20  Картирование цифровых прав, часть IV. Право на...   \n",
       "0    вчера в 16:16         Сравнение Blazor и JavaScript-инструментов   \n",
       "\n",
       "                                             link  \n",
       "0                https://habr.com/ru/post/517988/  \n",
       "0                https://habr.com/ru/post/517986/  \n",
       "0  https://habr.com/ru/company/ruvds/blog/517314/  "
      ]
     },
     "execution_count": 31,
     "metadata": {},
     "output_type": "execute_result"
    }
   ],
   "source": [
    "# добавляем извлечение хабов из постов, чтобы отбирать только нужные\n",
    "my_df = pd.DataFrame()\n",
    "for post in posts:\n",
    "    post_id = post.parent.attrs.get('id')\n",
    "   # если идентификатор не найден, это что-то странное, пропускаем\n",
    "    if not post_id:\n",
    "        continue\n",
    "    post_id = int(post_id.split('_')[-1])\n",
    "    texts = post.find_all('div', class_='post__text')\n",
    "    for text_post in texts:\n",
    "        text_lower = text_post.text.lower()\n",
    "        if any([desired in text_lower for desired in KEYWORDS]):\n",
    "            time = post.find('span', class_='post__time').text\n",
    "            title_el = post.find('a', class_='post__title_link')\n",
    "            link = title_el.attrs.get('href')\n",
    "            row = {'date': time, 'title': title_el.text, 'link': link}\n",
    "            my_df = pd.concat([my_df, pd.DataFrame([row])])\n",
    "my_df"
   ]
  },
  {
   "cell_type": "markdown",
   "metadata": {},
   "source": [
    "### Дополнительная часть (необязательная)\n",
    "Улучшить скрипт так, чтобы он анализировал не только preview-информацию статьи, но и весь текст статьи целиком.\n",
    "\n",
    "Для этого потребуется получать страницы статей и искать по тексту внутри этой страницы.\n",
    "\n",
    "Итоговый датафрейм формировать со столбцами: <дата> - <заголовок> - <ссылка> - <текст статьи>"
   ]
  },
  {
   "cell_type": "markdown",
   "metadata": {},
   "source": [
    "## Задание 2."
   ]
  },
  {
   "cell_type": "markdown",
   "metadata": {},
   "source": [
    "### Обязательная часть"
   ]
  },
  {
   "cell_type": "markdown",
   "metadata": {},
   "source": [
    "Написать скрипт, который будет проверять список e-mail адресов на утечку при помощи сервиса [Avast Hack Ckeck](https://www.avast.com/hackcheck/).\n",
    "Список email-ов задаем переменной в начале кода:  \n",
    "`EMAIL = [xxx@x.ru, yyy@y.com]`\n",
    "\n",
    "В итоге должен формироваться датафрейм со столбцами: <почта> - <дата утечки> - <источник утечки> - <описание утечки>."
   ]
  },
  {
   "cell_type": "code",
   "execution_count": 75,
   "metadata": {},
   "outputs": [],
   "source": [
    "import time"
   ]
  },
  {
   "cell_type": "code",
   "execution_count": 87,
   "metadata": {},
   "outputs": [],
   "source": [
    "EMAIL = ['fifa@gmail.com', 'master123@ya.ru']\n",
    "URL = 'https://digibody.avast.com/v1/web/leaks'"
   ]
  },
  {
   "cell_type": "code",
   "execution_count": 131,
   "metadata": {},
   "outputs": [
    {
     "data": {
      "text/html": [
       "<div>\n",
       "<style scoped>\n",
       "    .dataframe tbody tr th:only-of-type {\n",
       "        vertical-align: middle;\n",
       "    }\n",
       "\n",
       "    .dataframe tbody tr th {\n",
       "        vertical-align: top;\n",
       "    }\n",
       "\n",
       "    .dataframe thead th {\n",
       "        text-align: right;\n",
       "    }\n",
       "</style>\n",
       "<table border=\"1\" class=\"dataframe\">\n",
       "  <thead>\n",
       "    <tr style=\"text-align: right;\">\n",
       "      <th></th>\n",
       "      <th>email</th>\n",
       "      <th>date</th>\n",
       "      <th>source</th>\n",
       "      <th>description</th>\n",
       "    </tr>\n",
       "  </thead>\n",
       "  <tbody>\n",
       "    <tr>\n",
       "      <th>0</th>\n",
       "      <td>fifa@gmail.com</td>\n",
       "      <td>1513900800000</td>\n",
       "      <td>[]</td>\n",
       "      <td>The proliferation of stolen or leaked database...</td>\n",
       "    </tr>\n",
       "    <tr>\n",
       "      <th>0</th>\n",
       "      <td>fifa@gmail.com</td>\n",
       "      <td>1542758400000</td>\n",
       "      <td>[]</td>\n",
       "      <td>In July 2018, the online video site Animoto su...</td>\n",
       "    </tr>\n",
       "    <tr>\n",
       "      <th>0</th>\n",
       "      <td>fifa@gmail.com</td>\n",
       "      <td>1535068800000</td>\n",
       "      <td>[]</td>\n",
       "      <td>This combolist was compiled from a variety of ...</td>\n",
       "    </tr>\n",
       "    <tr>\n",
       "      <th>0</th>\n",
       "      <td>fifa@gmail.com</td>\n",
       "      <td>1549411200000</td>\n",
       "      <td>[]</td>\n",
       "      <td>On January 7, 2019, an online user named Sanix...</td>\n",
       "    </tr>\n",
       "    <tr>\n",
       "      <th>0</th>\n",
       "      <td>fifa@gmail.com</td>\n",
       "      <td>1517616000000</td>\n",
       "      <td>[]</td>\n",
       "      <td>On an unconfirmed date, the manufacturing comp...</td>\n",
       "    </tr>\n",
       "    <tr>\n",
       "      <th>...</th>\n",
       "      <td>...</td>\n",
       "      <td>...</td>\n",
       "      <td>...</td>\n",
       "      <td>...</td>\n",
       "    </tr>\n",
       "    <tr>\n",
       "      <th>0</th>\n",
       "      <td>fifa@gmail.com</td>\n",
       "      <td>1491782400000</td>\n",
       "      <td>[]</td>\n",
       "      <td>This collection of compromised Gmail users con...</td>\n",
       "    </tr>\n",
       "    <tr>\n",
       "      <th>0</th>\n",
       "      <td>fifa@gmail.com</td>\n",
       "      <td>1575504000000</td>\n",
       "      <td>[]</td>\n",
       "      <td>This source has been marked as sensitive due t...</td>\n",
       "    </tr>\n",
       "    <tr>\n",
       "      <th>0</th>\n",
       "      <td>fifa31</td>\n",
       "      <td>1477440000000</td>\n",
       "      <td>[]</td>\n",
       "      <td>This source has been marked as sensitive due t...</td>\n",
       "    </tr>\n",
       "    <tr>\n",
       "      <th>0</th>\n",
       "      <td>zyka</td>\n",
       "      <td>1495756800000</td>\n",
       "      <td>[]</td>\n",
       "      <td>In February 2016, LEET's user database was all...</td>\n",
       "    </tr>\n",
       "    <tr>\n",
       "      <th>0</th>\n",
       "      <td>fifa@gmail.com</td>\n",
       "      <td>1597276800000</td>\n",
       "      <td>[]</td>\n",
       "      <td>In August 2020, this combolist was shared on a...</td>\n",
       "    </tr>\n",
       "  </tbody>\n",
       "</table>\n",
       "<p>83 rows × 4 columns</p>\n",
       "</div>"
      ],
      "text/plain": [
       "             email           date source  \\\n",
       "0   fifa@gmail.com  1513900800000     []   \n",
       "0   fifa@gmail.com  1542758400000     []   \n",
       "0   fifa@gmail.com  1535068800000     []   \n",
       "0   fifa@gmail.com  1549411200000     []   \n",
       "0   fifa@gmail.com  1517616000000     []   \n",
       "..             ...            ...    ...   \n",
       "0   fifa@gmail.com  1491782400000     []   \n",
       "0   fifa@gmail.com  1575504000000     []   \n",
       "0           fifa31  1477440000000     []   \n",
       "0             zyka  1495756800000     []   \n",
       "0   fifa@gmail.com  1597276800000     []   \n",
       "\n",
       "                                          description  \n",
       "0   The proliferation of stolen or leaked database...  \n",
       "0   In July 2018, the online video site Animoto su...  \n",
       "0   This combolist was compiled from a variety of ...  \n",
       "0   On January 7, 2019, an online user named Sanix...  \n",
       "0   On an unconfirmed date, the manufacturing comp...  \n",
       "..                                                ...  \n",
       "0   This collection of compromised Gmail users con...  \n",
       "0   This source has been marked as sensitive due t...  \n",
       "0   This source has been marked as sensitive due t...  \n",
       "0   In February 2016, LEET's user database was all...  \n",
       "0   In August 2020, this combolist was shared on a...  \n",
       "\n",
       "[83 rows x 4 columns]"
      ]
     },
     "execution_count": 131,
     "metadata": {},
     "output_type": "execute_result"
    }
   ],
   "source": [
    "my_df = pd.DataFrame()\n",
    "for email_element in EMAIL: \n",
    "    time.sleep(0.3)\n",
    "    res = requests.post(URL, json={'email':email_element})\n",
    "    results_df = res.json()\n",
    "    list_results = results_df['value']\n",
    "    for item in list_results:\n",
    "        row = {'email': item['username'], 'date': item['leak_info']['date'], \"source\": item['leak_info']['source_references'],'description': item['leak_info']['description']}\n",
    "        my_df = pd.concat([my_df, pd.DataFrame([row])])\n",
    "my_df"
   ]
  },
  {
   "cell_type": "code",
   "execution_count": null,
   "metadata": {},
   "outputs": [],
   "source": []
  },
  {
   "cell_type": "markdown",
   "metadata": {},
   "source": [
    "### Дополнительная часть (необязательная)"
   ]
  },
  {
   "cell_type": "markdown",
   "metadata": {},
   "source": [
    "Написать скрипт, который будет получать 50 последних постов указанной группы во Вконтакте.  \n",
    "Документация к API VK: https://vk.com/dev/methods\n",
    ", вам поможет метод [wall.get](https://vk.com/dev/wall.get)```\n",
    "GROUP = 'netology'\n",
    "TOKEN = УДАЛЯЙТЕ В ВЕРСИИ ДЛЯ ПРОВЕРКИ, НА GITHUB НЕ ВЫКЛАДЫВАТЬ\n",
    "```\n",
    "\n",
    "В итоге должен формироваться датафрейм со столбцами: <дата поста> - <текст поста>."
   ]
  },
  {
   "cell_type": "markdown",
   "metadata": {},
   "source": [
    "#### ПРИМЕЧАНИЕ\n",
    "Домашнее задание сдается ссылкой на репозиторий [GitHub](https://github.com/).\n",
    "Не сможем проверить или помочь, если вы пришлете:\n",
    "- файлы;\n",
    "- архивы;\n",
    "- скриншоты кода.\n",
    "\n",
    "Все обсуждения и консультации по выполнению домашнего задания ведутся только на соответствующем канале в slack.\n",
    "\n",
    "##### Как правильно задавать вопросы аспирантам, преподавателям и коллегам?\n",
    "Прежде чем задать вопрос необходимо попробовать найти ответ самому в интернете. Навык самостоятельного поиска информации – один из важнейших, и каждый практикующий специалист любого уровня это делает каждый день.\n",
    "\n",
    "Любой вопрос должен быть сформулирован по алгоритму:  \n",
    "1) Что я делаю?  \n",
    "2) Какого результата я ожидаю?  \n",
    "3) Как фактический результат отличается от ожидаемого?  \n",
    "4) Что я уже попробовал сделать, чтобы исправить проблему?  \n",
    "\n",
    "По возможности, прикрепляйте к вопросу скриншоты, либо ссылки на код. Оставляйте только проблемный и воспроизводимый участок кода, все решение выкладывать не допускается.\n"
   ]
  }
 ],
 "metadata": {
  "kernelspec": {
   "display_name": "Python 3",
   "language": "python",
   "name": "python3"
  },
  "language_info": {
   "codemirror_mode": {
    "name": "ipython",
    "version": 3
   },
   "file_extension": ".py",
   "mimetype": "text/x-python",
   "name": "python",
   "nbconvert_exporter": "python",
   "pygments_lexer": "ipython3",
   "version": "3.7.6"
  }
 },
 "nbformat": 4,
 "nbformat_minor": 2
}
